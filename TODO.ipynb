{
 "cells": [
  {
   "cell_type": "code",
   "execution_count": 1,
   "id": "f2c56bdb",
   "metadata": {},
   "outputs": [],
   "source": [
    "# from src.cell import Cell\n",
    "from src.grids import hard_game, expert_game\n",
    "# from src.nine_cell import NineCell, Row, Column, Nonant\n",
    "from src.sudoku_grid import SudokuGrid"
   ]
  },
  {
   "cell_type": "code",
   "execution_count": 2,
   "id": "19ec0d44",
   "metadata": {},
   "outputs": [],
   "source": [
    "grid = SudokuGrid()\n",
    "\n",
    "# hard game is a function which enters cell values into the grid\n",
    "# todo: construct solvable grids by reverse engineering the logic\n"
   ]
  },
  {
   "cell_type": "code",
   "execution_count": 3,
   "id": "09e75ef4",
   "metadata": {},
   "outputs": [
    {
     "data": {
      "text/plain": [
       "  * * * * * * * * *\n",
       "*                  \n",
       "*                  \n",
       "*                  \n",
       "*                  \n",
       "*                  \n",
       "*                  \n",
       "*                  \n",
       "*                  \n",
       "*                  "
      ]
     },
     "execution_count": 3,
     "metadata": {},
     "output_type": "execute_result"
    }
   ],
   "source": [
    "grid"
   ]
  },
  {
   "cell_type": "code",
   "execution_count": 4,
   "id": "12005ac7",
   "metadata": {},
   "outputs": [],
   "source": [
    "\n",
    "expert_game(grid)\n"
   ]
  },
  {
   "cell_type": "code",
   "execution_count": 5,
   "id": "98195222",
   "metadata": {},
   "outputs": [
    {
     "data": {
      "text/plain": [
       "   *  *  *  *  *  *  *  *  *\n",
       "*              9  1  4  3   \n",
       "*           7               \n",
       "*     7        4  5     6   \n",
       "*        3  2  5  4  1     9\n",
       "*                       2  4\n",
       "*  4              3     8  6\n",
       "*     6  4                 1\n",
       "*     9  8  1     2  7      \n",
       "*        2                  "
      ]
     },
     "execution_count": 5,
     "metadata": {},
     "output_type": "execute_result"
    }
   ],
   "source": [
    "grid"
   ]
  },
  {
   "cell_type": "code",
   "execution_count": 6,
   "id": "69775926",
   "metadata": {},
   "outputs": [],
   "source": [
    "grid.solve()"
   ]
  },
  {
   "cell_type": "code",
   "execution_count": 7,
   "id": "4efffcfb",
   "metadata": {},
   "outputs": [
    {
     "name": "stdout",
     "output_type": "stream",
     "text": [
      "81\n"
     ]
    },
    {
     "data": {
      "text/plain": [
       "   *  *  *  *  *  *  *  *  *\n",
       "*  2  5  6  8  9  1  4  3  7\n",
       "*  3  4  9  7  2  6  8  1  5\n",
       "*  8  7  1  3  4  5  9  6  2\n",
       "*  6  8  3  2  5  4  1  7  9\n",
       "*  9  1  5  6  8  7  3  2  4\n",
       "*  4  2  7  9  1  3  5  8  6\n",
       "*  7  6  4  5  3  8  2  9  1\n",
       "*  5  9  8  1  6  2  7  4  3\n",
       "*  1  3  2  4  7  9  6  5  8"
      ]
     },
     "execution_count": 7,
     "metadata": {},
     "output_type": "execute_result"
    }
   ],
   "source": [
    "\n",
    "print(grid.total_trues)\n",
    "grid"
   ]
  },
  {
   "cell_type": "code",
   "execution_count": 9,
   "id": "2bdb7c06",
   "metadata": {},
   "outputs": [
    {
     "data": {
      "text/plain": [
       "   *  *  *  *  *  *  *  *  *\n",
       "*              4  9  6      \n",
       "*  3     4        6  1     9\n",
       "*     2           1     3  4\n",
       "*     1  2        4         \n",
       "*  4        5              6\n",
       "*     8        2  9         \n",
       "*        1  6           2   \n",
       "*           9              8\n",
       "*     6              3      "
      ]
     },
     "execution_count": 9,
     "metadata": {},
     "output_type": "execute_result"
    }
   ],
   "source": [
    "grid"
   ]
  },
  {
   "cell_type": "code",
   "execution_count": 10,
   "id": "fd258192",
   "metadata": {},
   "outputs": [],
   "source": [
    "grid.solve()"
   ]
  },
  {
   "cell_type": "code",
   "execution_count": 11,
   "id": "20b22c7d",
   "metadata": {},
   "outputs": [
    {
     "data": {
      "text/plain": [
       "   *  *  *  *  *  *  *  *  *\n",
       "*  1  7  8  3  4  9  6  5  2\n",
       "*  3  5  4  2  9  6  1  8  9\n",
       "*  9  2  6  8  5  1  7  3  4\n",
       "*  5  1  2  7  6  4  8  9  3\n",
       "*  4  9  7  5  3  8  2  1  6\n",
       "*  6  8  3  1  2  9  5  4  7\n",
       "*  8  4  1  6  7  3  9  2  5\n",
       "*  7  3  5  9  1  2  4  6  8\n",
       "*  2  6  9  4  8  5  3  7  1"
      ]
     },
     "execution_count": 11,
     "metadata": {},
     "output_type": "execute_result"
    }
   ],
   "source": [
    "grid"
   ]
  },
  {
   "cell_type": "code",
   "execution_count": 12,
   "id": "f2566200",
   "metadata": {},
   "outputs": [
    {
     "name": "stdout",
     "output_type": "stream",
     "text": [
      "81\n"
     ]
    },
    {
     "data": {
      "text/plain": [
       "   *  *  *  *  *  *  *  *  *\n",
       "*  1  7  8  3  4  9  6  5  2\n",
       "*  3  5  4  2  9  6  1  8  9\n",
       "*  9  2  6  8  5  1  7  3  4\n",
       "*  5  1  2  7  6  4  8  9  3\n",
       "*  4  9  7  5  3  8  2  1  6\n",
       "*  6  8  3  1  2  9  5  4  7\n",
       "*  8  4  1  6  7  3  9  2  5\n",
       "*  7  3  5  9  1  2  4  6  8\n",
       "*  2  6  9  4  8  5  3  7  1"
      ]
     },
     "execution_count": 12,
     "metadata": {},
     "output_type": "execute_result"
    }
   ],
   "source": [
    "grid.solve()\n",
    "print(grid.total_trues)\n",
    "\n",
    "grid"
   ]
  },
  {
   "cell_type": "code",
   "execution_count": 28,
   "id": "dd2ff39a",
   "metadata": {},
   "outputs": [
    {
     "data": {
      "text/html": [
       "<div>\n",
       "<style scoped>\n",
       "    .dataframe tbody tr th:only-of-type {\n",
       "        vertical-align: middle;\n",
       "    }\n",
       "\n",
       "    .dataframe tbody tr th {\n",
       "        vertical-align: top;\n",
       "    }\n",
       "\n",
       "    .dataframe thead th {\n",
       "        text-align: right;\n",
       "    }\n",
       "</style>\n",
       "<table border=\"1\" class=\"dataframe\">\n",
       "  <thead>\n",
       "    <tr style=\"text-align: right;\">\n",
       "      <th></th>\n",
       "      <th>1</th>\n",
       "      <th>2</th>\n",
       "      <th>3</th>\n",
       "      <th>4</th>\n",
       "      <th>5</th>\n",
       "      <th>6</th>\n",
       "      <th>7</th>\n",
       "      <th>8</th>\n",
       "      <th>9</th>\n",
       "    </tr>\n",
       "  </thead>\n",
       "  <tbody>\n",
       "    <tr>\n",
       "      <th>1</th>\n",
       "      <td>{}</td>\n",
       "      <td>{}</td>\n",
       "      <td>{}</td>\n",
       "      <td>{}</td>\n",
       "      <td>{}</td>\n",
       "      <td>{}</td>\n",
       "      <td>{}</td>\n",
       "      <td>{}</td>\n",
       "      <td>{}</td>\n",
       "    </tr>\n",
       "    <tr>\n",
       "      <th>2</th>\n",
       "      <td>{}</td>\n",
       "      <td>{}</td>\n",
       "      <td>{}</td>\n",
       "      <td>{}</td>\n",
       "      <td>{}</td>\n",
       "      <td>{}</td>\n",
       "      <td>{}</td>\n",
       "      <td>{}</td>\n",
       "      <td>{}</td>\n",
       "    </tr>\n",
       "    <tr>\n",
       "      <th>3</th>\n",
       "      <td>{}</td>\n",
       "      <td>{}</td>\n",
       "      <td>{}</td>\n",
       "      <td>{}</td>\n",
       "      <td>{}</td>\n",
       "      <td>{}</td>\n",
       "      <td>{}</td>\n",
       "      <td>{}</td>\n",
       "      <td>{}</td>\n",
       "    </tr>\n",
       "    <tr>\n",
       "      <th>4</th>\n",
       "      <td>{}</td>\n",
       "      <td>{}</td>\n",
       "      <td>{}</td>\n",
       "      <td>{}</td>\n",
       "      <td>{}</td>\n",
       "      <td>{}</td>\n",
       "      <td>{}</td>\n",
       "      <td>{}</td>\n",
       "      <td>{}</td>\n",
       "    </tr>\n",
       "    <tr>\n",
       "      <th>5</th>\n",
       "      <td>{}</td>\n",
       "      <td>{}</td>\n",
       "      <td>{}</td>\n",
       "      <td>{}</td>\n",
       "      <td>{}</td>\n",
       "      <td>{}</td>\n",
       "      <td>{}</td>\n",
       "      <td>{}</td>\n",
       "      <td>{}</td>\n",
       "    </tr>\n",
       "    <tr>\n",
       "      <th>6</th>\n",
       "      <td>{}</td>\n",
       "      <td>{}</td>\n",
       "      <td>{}</td>\n",
       "      <td>{}</td>\n",
       "      <td>{}</td>\n",
       "      <td>{}</td>\n",
       "      <td>{}</td>\n",
       "      <td>{}</td>\n",
       "      <td>{}</td>\n",
       "    </tr>\n",
       "    <tr>\n",
       "      <th>7</th>\n",
       "      <td>{}</td>\n",
       "      <td>{}</td>\n",
       "      <td>{}</td>\n",
       "      <td>{}</td>\n",
       "      <td>{}</td>\n",
       "      <td>{}</td>\n",
       "      <td>{}</td>\n",
       "      <td>{}</td>\n",
       "      <td>{}</td>\n",
       "    </tr>\n",
       "    <tr>\n",
       "      <th>8</th>\n",
       "      <td>{}</td>\n",
       "      <td>{}</td>\n",
       "      <td>{}</td>\n",
       "      <td>{}</td>\n",
       "      <td>{}</td>\n",
       "      <td>{}</td>\n",
       "      <td>{}</td>\n",
       "      <td>{}</td>\n",
       "      <td>{}</td>\n",
       "    </tr>\n",
       "    <tr>\n",
       "      <th>9</th>\n",
       "      <td>{}</td>\n",
       "      <td>{}</td>\n",
       "      <td>{}</td>\n",
       "      <td>{}</td>\n",
       "      <td>{}</td>\n",
       "      <td>{}</td>\n",
       "      <td>{}</td>\n",
       "      <td>{}</td>\n",
       "      <td>{}</td>\n",
       "    </tr>\n",
       "  </tbody>\n",
       "</table>\n",
       "</div>"
      ],
      "text/plain": [
       "    1   2   3   4   5   6   7   8   9\n",
       "1  {}  {}  {}  {}  {}  {}  {}  {}  {}\n",
       "2  {}  {}  {}  {}  {}  {}  {}  {}  {}\n",
       "3  {}  {}  {}  {}  {}  {}  {}  {}  {}\n",
       "4  {}  {}  {}  {}  {}  {}  {}  {}  {}\n",
       "5  {}  {}  {}  {}  {}  {}  {}  {}  {}\n",
       "6  {}  {}  {}  {}  {}  {}  {}  {}  {}\n",
       "7  {}  {}  {}  {}  {}  {}  {}  {}  {}\n",
       "8  {}  {}  {}  {}  {}  {}  {}  {}  {}\n",
       "9  {}  {}  {}  {}  {}  {}  {}  {}  {}"
      ]
     },
     "execution_count": 28,
     "metadata": {},
     "output_type": "execute_result"
    }
   ],
   "source": [
    "grid.show_possibles"
   ]
  }
 ],
 "metadata": {
  "kernelspec": {
   "display_name": "Python 3 (ipykernel)",
   "language": "python",
   "name": "python3"
  },
  "language_info": {
   "codemirror_mode": {
    "name": "ipython",
    "version": 3
   },
   "file_extension": ".py",
   "mimetype": "text/x-python",
   "name": "python",
   "nbconvert_exporter": "python",
   "pygments_lexer": "ipython3",
   "version": "3.9.7"
  },
  "toc": {
   "base_numbering": 1,
   "nav_menu": {},
   "number_sections": true,
   "sideBar": true,
   "skip_h1_title": false,
   "title_cell": "Table of Contents",
   "title_sidebar": "Contents",
   "toc_cell": false,
   "toc_position": {},
   "toc_section_display": true,
   "toc_window_display": false
  },
  "varInspector": {
   "cols": {
    "lenName": 16,
    "lenType": 16,
    "lenVar": 40
   },
   "kernels_config": {
    "python": {
     "delete_cmd_postfix": "",
     "delete_cmd_prefix": "del ",
     "library": "var_list.py",
     "varRefreshCmd": "print(var_dic_list())"
    },
    "r": {
     "delete_cmd_postfix": ") ",
     "delete_cmd_prefix": "rm(",
     "library": "var_list.r",
     "varRefreshCmd": "cat(var_dic_list()) "
    }
   },
   "types_to_exclude": [
    "module",
    "function",
    "builtin_function_or_method",
    "instance",
    "_Feature"
   ],
   "window_display": false
  }
 },
 "nbformat": 4,
 "nbformat_minor": 5
}
